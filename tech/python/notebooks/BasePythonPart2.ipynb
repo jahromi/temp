{
  "nbformat": 4,
  "nbformat_minor": 0,
  "metadata": {
    "colab": {
      "name": "PythonPart2.ipynb",
      "provenance": [],
      "toc_visible": true,
      "authorship_tag": "ABX9TyNelglTOjBVw4TLCR/HllQP",
      "include_colab_link": true
    },
    "kernelspec": {
      "name": "python3",
      "display_name": "Python 3"
    }
  },
  "cells": [
    {
      "cell_type": "markdown",
      "metadata": {
        "id": "BpyXuFXHPkzl"
      },
      "source": [
        "### **Python programing practice notebook part 2**"
      ]
    },
    {
      "cell_type": "markdown",
      "metadata": {
        "id": "yoQamo8dWpli"
      },
      "source": [
        "#### **if...else Statement**\n",
        "\n",
        "> Decision making is required when we want to execute a code only if a certain condition is satisfied. The if…elif…else statement is used in Python for decision making.\n",
        "\n",
        "![if...elif...else flow](https://cdn.programiz.com/sites/tutorial2program/files/Python_if_elif_else_statement.jpg)"
      ]
    },
    {
      "cell_type": "code",
      "metadata": {
        "id": "9EQNuxdPXWnC",
        "colab": {
          "base_uri": "https://localhost:8080/"
        },
        "outputId": "f897ecf5-b309-4f46-f254-7bf3d42931ed"
      },
      "source": [
        "'''In this program, \n",
        "we check if the number is positive or\n",
        "negative or zero and \n",
        "display an appropriate message'''\n",
        "\n",
        "num = 3.4\n",
        "\n",
        "# Try these two variations as well:\n",
        "# num = 0\n",
        "# num = -4.5\n",
        "\n",
        "if num > 0:\n",
        "    print(\"Positive number\")\n",
        "elif num == 0:\n",
        "    print(\"Zero\")\n",
        "else:\n",
        "    print(\"Negative number\")"
      ],
      "execution_count": null,
      "outputs": [
        {
          "output_type": "stream",
          "text": [
            "Positive number\n"
          ],
          "name": "stdout"
        }
      ]
    },
    {
      "cell_type": "code",
      "metadata": {
        "id": "s1_DoszVBcSW"
      },
      "source": [
        "'''In this program, we input a number\n",
        "check if the number is positive or\n",
        "negative or zero and display\n",
        "an appropriate message\n",
        "This time we use nested if statement'''\n",
        "\n",
        "num = float(input(\"Enter a number: \"))\n",
        "if num >= 0:\n",
        "    if num == 0:\n",
        "        print(\"Zero\")\n",
        "    else:\n",
        "        print(\"Positive number\")\n",
        "else:\n",
        "    print(\"Negative number\")"
      ],
      "execution_count": null,
      "outputs": []
    },
    {
      "cell_type": "markdown",
      "metadata": {
        "id": "jEJBelLt723P"
      },
      "source": [
        "#### **loop in Python**\n",
        "> The for loop in Python is used to iterate over a sequence (list, tuple, string) or other iterable objects. Iterating over a sequence is called traversal.\n",
        "![For flow](https://cdn.programiz.com/sites/tutorial2program/files/forLoop.jpg)"
      ]
    },
    {
      "cell_type": "code",
      "metadata": {
        "id": "tgqRtnPG8HA0"
      },
      "source": [
        "# Program to find the sum of all numbers stored in a list\n",
        "\n",
        "# List of numbers\n",
        "numbers = [6, 5, 3, 8, 4, 2, 5, 4, 11]\n",
        "\n",
        "# variable to store the sum\n",
        "sum = 0\n",
        "\n",
        "# iterate over the list\n",
        "for val in numbers:\n",
        "\tsum = sum+val\n",
        "\n",
        "print(\"The sum is\", sum)\n"
      ],
      "execution_count": null,
      "outputs": []
    },
    {
      "cell_type": "code",
      "metadata": {
        "id": "g6d4FybHBXk2"
      },
      "source": [
        "\n",
        "# program to display student's marks from record\n",
        "student_name = 'Soyuj'\n",
        "\n",
        "marks = {'James': 90, 'Jules': 55, 'Arthur': 77}\n",
        "\n",
        "for student in marks:\n",
        "    if student == student_name:\n",
        "        print(marks[student])\n",
        "        break\n",
        "else:\n",
        "    print('No entry with that name found.')"
      ],
      "execution_count": null,
      "outputs": []
    },
    {
      "cell_type": "markdown",
      "metadata": {
        "id": "zvJBjaC7AsQ-"
      },
      "source": [
        "#### **while loop in Python**\n",
        "\n",
        "> The while loop in Python is used to iterate over a block of code as long as the test expression (condition) is true. We generally use this loop when we don't know the number of times to iterate beforehand.\n",
        "\n",
        "![While flow](https://cdn.programiz.com/sites/tutorial2program/files/whileLoopFlowchart.jpg)"
      ]
    },
    {
      "cell_type": "code",
      "metadata": {
        "colab": {
          "base_uri": "https://localhost:8080/"
        },
        "id": "-LEL5F8aAAJo",
        "outputId": "d7d02ec3-5e8f-45a7-bd07-991b55d01c3e"
      },
      "source": [
        "# Program to add natural\n",
        "# numbers up to \n",
        "# sum = 1+2+3+...+n\n",
        "\n",
        "# To take input from the user,\n",
        "# n = int(input(\"Enter n: \"))\n",
        "\n",
        "n = 10\n",
        "\n",
        "# initialize sum and counter\n",
        "sum = 0\n",
        "i = 1\n",
        "\n",
        "while i <= n:\n",
        "    sum = sum + i\n",
        "    i = i+1    # update counter\n",
        "\n",
        "# print the sum\n",
        "print(\"The sum is\", sum)"
      ],
      "execution_count": null,
      "outputs": [
        {
          "output_type": "stream",
          "text": [
            "The sum is 55\n"
          ],
          "name": "stdout"
        }
      ]
    },
    {
      "cell_type": "code",
      "metadata": {
        "colab": {
          "base_uri": "https://localhost:8080/"
        },
        "id": "yznOcdBiBSOd",
        "outputId": "1c164fd0-020a-45c8-99b5-3cb5a4a7d9e6"
      },
      "source": [
        "'''Example to illustrate\n",
        "the use of else statement\n",
        "with the while loop'''\n",
        "\n",
        "counter = 0\n",
        "\n",
        "while counter < 3:\n",
        "    print(\"Inside loop\")\n",
        "    counter = counter + 1\n",
        "else:\n",
        "    print(\"Inside else\")"
      ],
      "execution_count": null,
      "outputs": [
        {
          "output_type": "stream",
          "text": [
            "Inside loop\n",
            "Inside loop\n",
            "Inside loop\n",
            "Inside else\n"
          ],
          "name": "stdout"
        }
      ]
    },
    {
      "cell_type": "markdown",
      "metadata": {
        "id": "1NFYIPLnFXBL"
      },
      "source": [
        "#### **Python break statement**\n",
        "> The break statement terminates the loop containing it. Control of the program flows to the statement immediately after the body of the loop.\n",
        "If the break statement is inside a nested loop (loop inside another loop), the break statement will terminate the innermost loop.\n",
        "![Break](https://cdn.programiz.com/sites/tutorial2program/files/flowchart-break-statement.jpg)\n",
        "\n",
        "#### **Python continue statement**\n",
        "> The continue statement is used to skip the rest of the code inside a loop for the current iteration only. Loop does not terminate but continues on with the next iteration.\n",
        "\n",
        "> ![Countinue](https://cdn.programiz.com/sites/tutorial2program/files/continue-statement-flowchart.jpg)"
      ]
    },
    {
      "cell_type": "code",
      "metadata": {
        "id": "IQBNVskfHF51"
      },
      "source": [
        "# Use of break statement inside the loop\n",
        "\n",
        "for val in \"string\":\n",
        "    if val == \"i\":\n",
        "        break\n",
        "    print(val)\n",
        "\n",
        "print(\"The end\")"
      ],
      "execution_count": null,
      "outputs": []
    },
    {
      "cell_type": "code",
      "metadata": {
        "id": "KxaAYyRgHMD9"
      },
      "source": [
        "# Program to show the use of continue statement inside loops\n",
        "\n",
        "for val in \"string\":\n",
        "    if val == \"i\":\n",
        "        continue\n",
        "    print(val)\n",
        "\n",
        "print(\"The end\")"
      ],
      "execution_count": null,
      "outputs": []
    },
    {
      "cell_type": "markdown",
      "metadata": {
        "id": "Vy6F7-l2193K"
      },
      "source": [
        "### **Python Function**\n",
        "\n",
        "> In Python, a function is a group of related statements that performs a specific task.\n",
        "Functions help break our program into smaller and modular chunks. As our program grows larger and larger, functions make it more organized and manageable.\n",
        "Furthermore, it avoids repetition and makes the code reusable.\n",
        "\n",
        "  `\n"
      ]
    },
    {
      "cell_type": "code",
      "metadata": {
        "id": "wVpjJr7i8Jwm"
      },
      "source": [
        "# Example of a function\n",
        "def greet(name):\n",
        "    \"\"\"\n",
        "    This function greets to\n",
        "    the person passed in as\n",
        "    a parameter\n",
        "    \"\"\"\n",
        "    print(\"Hello, \" + name + \". Good morning!\")"
      ],
      "execution_count": null,
      "outputs": []
    },
    {
      "cell_type": "markdown",
      "metadata": {
        "id": "XooSchRZ8Z86"
      },
      "source": [
        "#### **How to call a function in python?**\n",
        "\n",
        ">Once we have defined a function, we can call it from another function, program or even the Python prompt. To call a function we simply type the function name with appropriate parameters."
      ]
    },
    {
      "cell_type": "code",
      "metadata": {
        "id": "OD7cJ7Fv8rSM"
      },
      "source": [
        "greet('Paul')"
      ],
      "execution_count": null,
      "outputs": []
    },
    {
      "cell_type": "markdown",
      "metadata": {
        "id": "L56orjZE85oP"
      },
      "source": [
        "#### **Docstrings**\n",
        "> The first string after the function header is called the docstring and is short for documentation string. It is briefly used to explain what a function does. Although optional, documentation is a good programming practice. Unless you can remember what you had for dinner last week, always document your code. In the above example, we have a docstring immediately below the function header. We generally use triple quotes so that docstring can extend up to multiple lines. This string is available to us as the __doc__ attribute of the function."
      ]
    },
    {
      "cell_type": "code",
      "metadata": {
        "id": "aYp5YeEM9LYD"
      },
      "source": [
        "print(greet.__doc__)"
      ],
      "execution_count": null,
      "outputs": []
    },
    {
      "cell_type": "markdown",
      "metadata": {
        "id": "mdOEcilZ8q1D"
      },
      "source": [
        "#### **The return statement**\n",
        "> The return statement is used to exit a function and go back to the place from where it was called."
      ]
    },
    {
      "cell_type": "code",
      "metadata": {
        "id": "sZjAOqSe95fd"
      },
      "source": [
        "def absolute_value(num):\n",
        "    \"\"\"This function returns the absolute\n",
        "    value of the entered number\"\"\"\n",
        "\n",
        "    if num >= 0:\n",
        "        return num\n",
        "    else:\n",
        "        return -num\n",
        "\n",
        "\n",
        "print(absolute_value(2))\n",
        "\n",
        "print(absolute_value(-4))"
      ],
      "execution_count": null,
      "outputs": []
    },
    {
      "cell_type": "markdown",
      "metadata": {
        "id": "evRYQJWh-J9o"
      },
      "source": [
        "#### **Scope and Lifetime of variables**\n",
        ">Scope of a variable is the portion of a program where the variable is recognized. Parameters and variables defined inside a function are not visible from outside the function. Hence, they have a local scope.\n",
        "\n",
        ">The lifetime of a variable is the period throughout which the variable exits in the memory. The lifetime of variables inside a function is as long as the function executes.\n",
        "\n",
        "> They are destroyed once we return from the function. Hence, a function does not remember the value of a variable from its previous calls."
      ]
    },
    {
      "cell_type": "code",
      "metadata": {
        "id": "z4vGITJk_1K_"
      },
      "source": [
        "def my_func():\n",
        "\tx = 10\n",
        "\tprint(\"Value inside function:\",x)\n",
        "\n",
        "x = 20\n",
        "my_func()\n",
        "print(\"Value outside function:\",x)"
      ],
      "execution_count": null,
      "outputs": []
    },
    {
      "cell_type": "markdown",
      "metadata": {
        "id": "MN-3qVQACIxR"
      },
      "source": [
        "#### **Arguments**\n",
        "In the user-defined function topic, we learned about defining a function and calling it. Otherwise, the function call will result in an error. "
      ]
    },
    {
      "cell_type": "code",
      "metadata": {
        "id": "kTFOLzHTCP8e"
      },
      "source": [
        "def greet(name, msg):\n",
        "    \"\"\"This function greets to\n",
        "    the person with the provided message\"\"\"\n",
        "    print(\"Hello\", name + ', ' + msg)\n",
        "\n",
        "greet(\"Monica\", \"Good morning!\")"
      ],
      "execution_count": null,
      "outputs": []
    },
    {
      "cell_type": "markdown",
      "metadata": {
        "id": "rnt7RrS3Cnrz"
      },
      "source": [
        "#### **Python Default Arguments**\n",
        "Function arguments can have default values in Python. We can provide a default value to an argument by using the assignment operator (=)."
      ]
    },
    {
      "cell_type": "code",
      "metadata": {
        "id": "W5s0XqA7CgwE"
      },
      "source": [
        "def greet(name, msg=\"Good morning!\"):\n",
        "    \"\"\"\n",
        "    This function greets to\n",
        "    the person with the\n",
        "    provided message.\n",
        "\n",
        "    If the message is not provided,\n",
        "    it defaults to \"Good\n",
        "    morning!\"\n",
        "    \"\"\"\n",
        "\n",
        "    print(\"Hello\", name + ', ' + msg)\n",
        "\n",
        "\n",
        "greet(\"Kate\")\n",
        "greet(\"Bruce\", \"How do you do?\")"
      ],
      "execution_count": null,
      "outputs": []
    },
    {
      "cell_type": "markdown",
      "metadata": {
        "id": "8bPMHHPOC_Nv"
      },
      "source": [
        "#### **Python Arbitrary Arguments**\n",
        "Sometimes, we do not know in advance the number of arguments that will be passed into a function. Python allows us to handle this kind of situation through function calls with an arbitrary number of arguments. In the function definition, we use an asterisk (*) before the parameter name to denote this kind of argument. "
      ]
    },
    {
      "cell_type": "code",
      "metadata": {
        "id": "nccNe2SvDJBJ"
      },
      "source": [
        "def greet(*names):\n",
        "    \"\"\"This function greets all\n",
        "    the person in the names tuple.\"\"\"\n",
        "\n",
        "    # names is a tuple with arguments\n",
        "    for name in names:\n",
        "        print(\"Hello\", name)\n",
        "\n",
        "\n",
        "greet(\"Monica\", \"Luke\", \"Steve\", \"John\")"
      ],
      "execution_count": null,
      "outputs": []
    },
    {
      "cell_type": "markdown",
      "metadata": {
        "id": "4mGEAlODDb1U"
      },
      "source": [
        "#### **Python Recursive Function**\n",
        "In Python, we know that a function can call other functions. It is even possible for the function to call itself. These types of construct are termed as recursive functions."
      ]
    },
    {
      "cell_type": "code",
      "metadata": {
        "id": "3sfxg0jpDidf"
      },
      "source": [
        "def factorial(x):\n",
        "    \"\"\"This is a recursive function\n",
        "    to find the factorial of an integer\"\"\"\n",
        "\n",
        "    if x == 1:\n",
        "        return 1\n",
        "    else:\n",
        "        return (x * factorial(x-1))\n",
        "\n",
        "\n",
        "num = 3\n",
        "print(\"The factorial of\", num, \"is\", factorial(num))"
      ],
      "execution_count": null,
      "outputs": []
    },
    {
      "cell_type": "markdown",
      "metadata": {
        "id": "JGGzm1oFGJYX"
      },
      "source": [
        "## **Python Package**\n",
        "\n",
        "#### **What are packages?**\n",
        "> We don't usually store all of our files on our computer in the same location. We use a well-organized hierarchy of directories for easier access.\n",
        "\n",
        "> Similar files are kept in the same directory, for example, we may keep all the songs in the \"music\" directory. Analogous to this, Python has packages for directories and modules for files.\n",
        "\n",
        "> As our application program grows larger in size with a lot of modules, we place similar modules in one package and different modules in different packages. This makes a project (program) easy to manage and conceptually clear.\n",
        "\n",
        "> Similarly, as a directory can contain subdirectories and files, a Python package can have sub-packages and modules.\n",
        "\n",
        "> A directory must contain a file named \\_\\_init\\_\\_.py in order for Python to consider it as a package. This file can be left empty but we generally place the initialization code for that package in this file.\n",
        "\n",
        "> Here is an example. Suppose we are developing a game. One possible organization of packages and modules could be as shown in the figure below.\n",
        "\n",
        "![](https://cdn.programiz.com/sites/tutorial2program/files/PackageModuleStructure.jpg)\n",
        "\n",
        "> Importing module from a package\n",
        "We can import modules from packages using the dot (.) operator.\n",
        "\n",
        "> Here is a lisnk to an article that explain the difrence between absolute and rrelative import in python.\n",
        "\n",
        "> [Absolute vs Relative Imports in Python](https://realpython.com/absolute-vs-relative-python-imports/)\n",
        "\n"
      ]
    },
    {
      "cell_type": "code",
      "metadata": {
        "id": "7gtlgmqnFZBo"
      },
      "source": [
        "!pwd\n",
        "!apt-get install tree\n",
        "!rm -rf *\n",
        "!mkdir Game Game/Sound Game/Image Game/Level\n",
        "!touch Game/__init__.py \n",
        "!touch Game/Sound/{__init__,load,play,pause}.py\n",
        "!touch Game/Image/{__init__,open,change,close}.py\n",
        "!touch Game/Image/{__init__,start,load,over}.py\n",
        "!tree"
      ],
      "execution_count": null,
      "outputs": []
    },
    {
      "cell_type": "code",
      "metadata": {
        "id": "oD_TG1xTPm50"
      },
      "source": [
        "!echo \"print('This is inside start\\.py')\" >> Game/Image/start.py\n",
        "# import Game.Image.start\n",
        "\n",
        "# !echo \"import Game.Image.start\" >> Game/Sound/load.py\n",
        "# import Game.Sound.load\n",
        "\n",
        "# !echo \"from .start import *\" >> Game/Image/open.py\n",
        "# import Game.Image.open"
      ],
      "execution_count": null,
      "outputs": []
    }
  ]
}
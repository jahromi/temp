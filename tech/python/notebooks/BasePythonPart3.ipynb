{
  "nbformat": 4,
  "nbformat_minor": 0,
  "metadata": {
    "colab": {
      "name": "PythonPart3.ipynb",
      "provenance": [],
      "toc_visible": true,
      "authorship_tag": "ABX9TyOBI9LMQ5qRuUE5Xu0n8jgv",
      "include_colab_link": true
    },
    "kernelspec": {
      "name": "python3",
      "display_name": "Python 3"
    }
  },
  "cells": [
    {
      "cell_type": "markdown",
      "metadata": {
        "id": "BpyXuFXHPkzl"
      },
      "source": [
        "### **Python programing practice notebook part 3**"
      ]
    },
    {
      "cell_type": "markdown",
      "metadata": {
        "id": "yoQamo8dWpli"
      },
      "source": [
        "### **OOP**\n",
        "\n",
        "#### **Difrenct type of programing style**\n",
        "\n",
        "1. **Functional programming (FP)** is a programming paradigm — a style of building the structure and elements of computer programs — that treats computation as the evaluation of mathematical functions and avoids changing-state and mutable data.\n",
        "2. **Object-oriented programming (OOP)** is a programming paradigm based on the concept of objects, which may contain data, in the form of fields, often known as attributes; and code, in the form of procedures, often known as methods.”\n",
        "3. **Procedural programming** is a programming paradigm, derived from structured programming, based upon the concept of the procedure call. Procedures, also known as routines, subroutines, or functions, simply contain a series of computational steps to be carried out.”\n",
        "\n",
        "Source: [Functional vs Object-Oriented vs Procedural Programming](https://medium.com/@LiliOuakninFelsen/functional-vs-object-oriented-vs-procedural-programming-a3d4585557f3)"
      ]
    },
    {
      "cell_type": "markdown",
      "metadata": {
        "id": "xdt--NIwGjJ7"
      },
      "source": [
        "#### **Objected-orinted programing**\n",
        "\n",
        ">One of the popular approaches to solve a programming problem is by creating objects. This is known as Object-Oriented Programming (OOP). An object has two characteristics:\n",
        "\n",
        "* attributes\n",
        "* behavior\n",
        "\n",
        ">Let's take an example: A parrot is can be an object,as it has the following properties:\n",
        "> name, age, color as attributes\n",
        "> singing, dancing as behavior\n",
        "\n",
        "> The concept of OOP in Python focuses on creating reusable code. This concept is also known as DRY (Don't Repeat Yourself)."
      ]
    },
    {
      "cell_type": "markdown",
      "metadata": {
        "id": "vx89--vbINqg"
      },
      "source": [
        "#### **Class**\n",
        "\n",
        "> A class is a blueprint for the object.\n",
        "\n",
        "> We can think of class as a sketch of a parrot with labels. It contains all the details about the name, colors, size etc. Based on these descriptions, we can study about the parrot. Here, a parrot is an object.\n",
        "\n",
        "> The example for class of parrot can be :\n",
        "\n",
        "```python\n",
        "class Parrot:\n",
        "    pass\n",
        "```"
      ]
    },
    {
      "cell_type": "markdown",
      "metadata": {
        "id": "Y870rb1JLEsR"
      },
      "source": [
        "\n",
        "#### **Object**\n",
        "> An object (instance) is an instantiation of a class. When class is defined, only the description for the object is defined. Therefore, no memory or storage is allocated.\n",
        "\n",
        "> The example for object of parrot class can be:\n",
        "\n",
        "```python \n",
        "obj = Parrot()\n",
        "```\n",
        ">Here, obj is an object of class Parrot."
      ]
    },
    {
      "cell_type": "code",
      "metadata": {
        "id": "7Qg24F1TIF23"
      },
      "source": [
        "# Example 1: Creating Class and Object in Python\n",
        "class Parrot:\n",
        "\n",
        "    # class attribute\n",
        "    species = \"bird\"\n",
        "\n",
        "    # instance attribute\n",
        "    def __init__(self, name, age):\n",
        "        self.name = name\n",
        "        self.age = age\n",
        "\n",
        "# instantiate the Parrot class\n",
        "blu = Parrot(\"Blu\", 10)\n",
        "woo = Parrot(\"Woo\", 15)\n",
        "\n",
        "# access the class attributes\n",
        "print(\"Blu is a {}\".format(blu.__class__.species))\n",
        "print(\"Woo is also a {}\".format(woo.__class__.species))\n",
        "\n",
        "# access the instance attributes\n",
        "print(\"{} is {} years old\".format( blu.name, blu.age))\n",
        "print(\"{} is {} years old\".format( woo.name, woo.age))"
      ],
      "execution_count": null,
      "outputs": []
    },
    {
      "cell_type": "code",
      "metadata": {
        "id": "ms8fE11rMcYj"
      },
      "source": [
        "# Example 2 : Creating Methods in Python\n",
        "class Parrot:\n",
        "    \n",
        "    # instance attributes\n",
        "    def __init__(self, name, age):\n",
        "        self.name = name\n",
        "        self.age = age\n",
        "    \n",
        "    # instance method\n",
        "    def sing(self, song):\n",
        "        return \"{} sings {}\".format(self.name, song)\n",
        "\n",
        "    def dance(self):\n",
        "        return \"{} is now dancing\".format(self.name)\n",
        "\n",
        "# instantiate the object\n",
        "blu = Parrot(\"Blu\", 10)\n",
        "\n",
        "# call our instance methods\n",
        "print(blu.sing(\"'Happy'\"))\n",
        "print(blu.dance())"
      ],
      "execution_count": null,
      "outputs": []
    },
    {
      "cell_type": "code",
      "metadata": {
        "id": "j1YFPNyDMljT"
      },
      "source": [
        "# Example 3: Use of Inheritance in Python\n",
        "class Bird:\n",
        "    \n",
        "    def __init__(self):\n",
        "        print(\"Bird is ready\")\n",
        "\n",
        "    def whoisThis(self):\n",
        "        print(\"Bird\")\n",
        "\n",
        "    def swim(self):\n",
        "        print(\"Swim faster\")\n",
        "\n",
        "# child class\n",
        "class Penguin(Bird):\n",
        "\n",
        "    def __init__(self):\n",
        "        # call super() function\n",
        "        super().__init__()\n",
        "        print(\"Penguin is ready\")\n",
        "\n",
        "    def whoisThis(self):\n",
        "        print(\"Penguin\")\n",
        "\n",
        "    def run(self):\n",
        "        print(\"Run faster\")\n",
        "\n",
        "peggy = Penguin()\n",
        "peggy.whoisThis()\n",
        "peggy.swim()\n",
        "peggy.run()"
      ],
      "execution_count": null,
      "outputs": []
    },
    {
      "cell_type": "markdown",
      "metadata": {
        "id": "RyZfTH3dAsu9"
      },
      "source": [
        "#### **Encapsulation**\n",
        "> Using OOP in Python, we can restrict access to methods and variables. This prevents data from direct modification which is called encapsulation. In Python, we denote private attributes using double __.\n",
        "\n",
        "> Also, here is intersting question to review in stack overflow [\"Why are Python's 'private' methods not actually private?\"](https://stackoverflow.com/questions/70528/why-are-pythons-private-methods-not-actually-private)\n"
      ]
    },
    {
      "cell_type": "code",
      "metadata": {
        "id": "oGGSZV42ODOR"
      },
      "source": [
        "# Example 4: Data Encapsulation in Python\n",
        "\n",
        "class Computer:\n",
        "\n",
        "    def __init__(self):\n",
        "        self.__maxprice = 900\n",
        "\n",
        "    def sell(self):\n",
        "        print(\"Selling Price: {}\".format(self.__maxprice))\n",
        "\n",
        "    def setMaxPrice(self, price):\n",
        "        self.__maxprice = price\n",
        "\n",
        "c = Computer()\n",
        "c.sell()\n",
        "\n",
        "# change the price\n",
        "c.__maxprice = 1000\n",
        "c.sell()\n",
        "\n",
        "# using setter function\n",
        "c.setMaxPrice(1000)\n",
        "c.sell()\n"
      ],
      "execution_count": null,
      "outputs": []
    },
    {
      "cell_type": "markdown",
      "metadata": {
        "id": "No9MM4ODGpz3"
      },
      "source": [
        "### **Iterators in Python**\n",
        "> Iterators are everywhere in Python. They are elegantly implemented within for loops, comprehensions, generators etc. but are hidden in plain sight. Iterator in Python is simply an object that can be iterated upon. An object which will return data, one element at a time.\n",
        "\n",
        "> Technically speaking, a Python iterator object must implement two special methods, \\_\\_iter__() and \\_\\_next__(), collectively called the iterator protocol.\n",
        "\n",
        "> An object is called iterable if we can get an iterator from it. Most built-in containers in Python like: list, tuple, string etc. are iterables.\n"
      ]
    },
    {
      "cell_type": "code",
      "metadata": {
        "id": "rquDert8FdK5"
      },
      "source": [
        "from sys import getsizeof\n",
        "i = range(0,10000)\n",
        "print(getsizeof(i))\n",
        "print(getsizeof(list(i)))"
      ],
      "execution_count": null,
      "outputs": []
    },
    {
      "cell_type": "markdown",
      "metadata": {
        "id": "fa318GdJJKRB"
      },
      "source": [
        "### **Building Custom Iterators**\n",
        "\n",
        "Building an iterator from scratch is easy in Python. We just have to implement the \\_\\_iter__() and the \\_\\_next__() methods.\n",
        "\n",
        "The \\_\\_iter__() method returns the iterator object itself. If required, some initialization can be performed.\n",
        "\n",
        "The \\_\\_next__() method must return the next item in the sequence. On reaching the end, and in subsequent calls, it must raise StopIteration.\n",
        "\n",
        "Here, we show an example that will give us the next power of 2 in each iteration. Power exponent starts from zero up to a user set number."
      ]
    },
    {
      "cell_type": "code",
      "metadata": {
        "id": "7pdzVmM3Rhxa"
      },
      "source": [
        "class PowTwo:\n",
        "    \"\"\"Class to implement an iterator\n",
        "    of powers of two\"\"\"\n",
        "\n",
        "    def __init__(self, max=0):\n",
        "        self.max = max\n",
        "\n",
        "    def __iter__(self):\n",
        "        self.n = 0\n",
        "        return self\n",
        "\n",
        "    def __next__(self):\n",
        "        if self.n <= self.max:\n",
        "            result = 2 ** self.n\n",
        "            self.n += 1\n",
        "            return result\n",
        "        else:\n",
        "            raise StopIteration\n",
        "\n",
        "\n",
        "# create an object\n",
        "numbers = PowTwo(3)\n",
        "\n",
        "# create an iterable from the object\n",
        "i = iter(numbers)\n",
        "\n",
        "# Using next to get to the next iterator element\n",
        "print(next(i))\n",
        "print(next(i))\n",
        "print(next(i))\n",
        "print(next(i))\n",
        "print(next(i))"
      ],
      "execution_count": null,
      "outputs": []
    },
    {
      "cell_type": "markdown",
      "metadata": {
        "id": "vLgxGe9HD7OE"
      },
      "source": [
        "### **Generators in Python**\n",
        "\n",
        "\n",
        "> It is fairly simple to create a generator in Python. It is as easy as defining a normal function, but with a yield statement instead of a return statement.\n",
        "\n",
        "> If a function contains at least one yield statement (it may contain other yield or return statements), it becomes a generator function. Both yield and return will return some value from a function.\n",
        "\n",
        "> The difference is that while a return statement terminates a function entirely, yield statement pauses the function saving all its states and later continues from there on successive calls."
      ]
    },
    {
      "cell_type": "code",
      "metadata": {
        "id": "ey7u_mbnza2M"
      },
      "source": [
        "# First example: A simple generator function\n",
        "def my_gen():\n",
        "    n = 1\n",
        "    print('This is printed first')\n",
        "    # Generator function contains yield statements\n",
        "    yield n\n",
        "\n",
        "    n += 1\n",
        "    print('This is printed second')\n",
        "    yield n\n",
        "\n",
        "    n += 1\n",
        "    print('This is printed at last')\n",
        "    yield n\n",
        "\n",
        "for item in my_gen():\n",
        "    print(item)"
      ],
      "execution_count": null,
      "outputs": []
    },
    {
      "cell_type": "code",
      "metadata": {
        "id": "EVd4HX8YGl1S"
      },
      "source": [
        "# Second example\n",
        "def fibonacci_numbers(nums):\n",
        "    x, y = 0, 1\n",
        "    for _ in range(nums):\n",
        "        x, y = y, x+y\n",
        "        yield x\n",
        "\n",
        "def square(nums):\n",
        "    for num in nums:\n",
        "        yield num**2\n",
        "\n",
        "print(sum(square(fibonacci_numbers(10))))"
      ],
      "execution_count": null,
      "outputs": []
    },
    {
      "cell_type": "markdown",
      "metadata": {
        "id": "iQx79gzsTknC"
      },
      "source": [
        "### **Decorators in Python**\n",
        "> Python has an interesting feature called decorators to add functionality to an existing code.\n",
        "\n",
        "> This is also called metaprogramming because a part of the program tries to modify another part of the program at compile time."
      ]
    },
    {
      "cell_type": "code",
      "metadata": {
        "id": "TIadBWNVzRVp"
      },
      "source": [
        "#example 1\n",
        "def show_number(input):\n",
        "  print(input)\n",
        "\n",
        "for i in range(5):\n",
        "  show_number(1)\n"
      ],
      "execution_count": null,
      "outputs": []
    },
    {
      "cell_type": "code",
      "metadata": {
        "id": "-OdRyx_yVybY"
      },
      "source": [
        "#example 2\n",
        "def show_number(input):\n",
        "  print(input)\n",
        "\n",
        "def repeat(func):\n",
        "  for i in range(5):\n",
        "    func(1)\n",
        "\n",
        "repeat(show_number)"
      ],
      "execution_count": null,
      "outputs": []
    },
    {
      "cell_type": "markdown",
      "metadata": {
        "id": "9Ez651_sUgN3"
      },
      "source": [
        "> Functions and methods are called callable as they can be called. In fact, any object which implements the special \\_\\_call__() method is termed callable. So, in the most basic sense, a decorator is a callable that returns a callable.\n",
        "\n",
        "> Basically, a decorator takes in a function, adds some functionality and returns it. Here is a comprehensive source for decorators in Python: [Decorators in Python](https://www.datacamp.com/community/tutorials/decorators-python)\n",
        "\n"
      ]
    },
    {
      "cell_type": "code",
      "metadata": {
        "id": "2eS2FjAvaRIY"
      },
      "source": [
        "# example 3:\n",
        "\n",
        "def repeat(func):\n",
        "  def inner(*args,**kwargs):\n",
        "    for i in range(5):\n",
        "      func(*args,**kwargs)\n",
        "  return inner\n",
        "\n",
        "@repeat\n",
        "def show_number(input):\n",
        "  print(input)\n",
        "\n",
        "show_number(1)"
      ],
      "execution_count": null,
      "outputs": []
    },
    {
      "cell_type": "code",
      "metadata": {
        "id": "Z4LJilgPVHoJ"
      },
      "source": [
        "# example 4:\n",
        "def repeat(n):\n",
        "  def repeat_n(func):\n",
        "    def inner(*args,**kwargs):\n",
        "      for i in range(n):\n",
        "        func(*args,**kwargs)\n",
        "    return inner\n",
        "  return repeat_n\n",
        "\n",
        "@repeat(2)\n",
        "def show_number(input):\n",
        "  print(input)\n",
        "\n",
        "show_number(1)"
      ],
      "execution_count": null,
      "outputs": []
    },
    {
      "cell_type": "markdown",
      "metadata": {
        "id": "SQ-qlVwiRtGg"
      },
      "source": [
        "### **Python @property decorator**\n",
        "> In this tutorial, you will learn about Python @property decorator; a pythonic way to use getters and setters in object-oriented programming."
      ]
    },
    {
      "cell_type": "code",
      "metadata": {
        "id": "sCFdiq2koQvP"
      },
      "source": [
        "# Making Getters and Setter methods\n",
        "class Celsius:\n",
        "    def __init__(self, temperature=0):\n",
        "        self.set_temperature(temperature)\n",
        "\n",
        "    def to_fahrenheit(self):\n",
        "        return (self.get_temperature() * 1.8) + 32\n",
        "\n",
        "    # getter method\n",
        "    def get_temperature(self):\n",
        "        return self._temperature\n",
        "\n",
        "    # setter method\n",
        "    def set_temperature(self, value):\n",
        "        if value < -273.15:\n",
        "            raise ValueError(\"Temperature below -273.15 is not possible.\")\n",
        "        self._temperature = value\n",
        "\n",
        "        \n",
        "celsuis = Celsius()\n",
        "print(celsuis.to_fahrenheit())\n",
        "celsuis.set_temperature(20)\n",
        "print([celsuis.get_temperature(),celsuis.to_fahrenheit()])"
      ],
      "execution_count": null,
      "outputs": []
    },
    {
      "cell_type": "code",
      "metadata": {
        "id": "5qpR8JVNVIlU"
      },
      "source": [
        "# Making Getters and Setter methods with property method\n",
        "class Celsius:\n",
        "    def __init__(self, temperature=0):\n",
        "        self.set_temperature(temperature)\n",
        "\n",
        "    def to_fahrenheit(self):\n",
        "        return (self.get_temperature() * 1.8) + 32\n",
        "\n",
        "    # getter method\n",
        "    def get_temperature(self):\n",
        "        return self._temperature\n",
        "\n",
        "    # setter method\n",
        "    def set_temperature(self, value):\n",
        "        if value < -273.15:\n",
        "            raise ValueError(\"Temperature below -273.15 is not possible.\")\n",
        "        self._temperature = value\n",
        "    temperature = property(get_temperature, set_temperature)\n",
        "\n",
        "\n",
        "celsuis = Celsius()\n",
        "print(celsuis.to_fahrenheit())\n",
        "celsuis.temperature = 20\n",
        "print([celsuis.temperature, celsuis.to_fahrenheit()])"
      ],
      "execution_count": null,
      "outputs": []
    },
    {
      "cell_type": "code",
      "metadata": {
        "id": "Qpf2pI7BlWSV"
      },
      "source": [
        "# Making Getters and Setter methods with property decorator\n",
        "class Celsius:\n",
        "    def __init__(self, temperature=0):\n",
        "        self.temperature = temperature\n",
        "\n",
        "    def to_fahrenheit(self):\n",
        "        return (self.temperature * 1.8) + 32\n",
        "\n",
        "    # getter method\n",
        "    @property\n",
        "    def temperature(self):\n",
        "        return self._temperature\n",
        "\n",
        "    # setter method\n",
        "    @temperature.setter\n",
        "    def temperature(self, value):\n",
        "        if value < -273.15:\n",
        "            raise ValueError(\"Temperature below -273.15 is not possible.\")\n",
        "        self._temperature = value\n",
        "\n",
        "\n",
        "celsuis = Celsius()\n",
        "print(celsuis.to_fahrenheit())\n",
        "celsuis.temperature = 20\n",
        "print([celsuis.temperature, celsuis.to_fahrenheit()])"
      ],
      "execution_count": null,
      "outputs": []
    },
    {
      "cell_type": "markdown",
      "metadata": {
        "id": "COcQ7jd0x18m"
      },
      "source": [
        "### Python @staticmethod and @classmethod decorator\n"
      ]
    },
    {
      "cell_type": "code",
      "metadata": {
        "id": "rRU6q1tjsJBK"
      },
      "source": [
        "class Test:\n",
        "  def __init__(self):\n",
        "    pass\n",
        "\n",
        "  @staticmethod\n",
        "  def add(a,b):\n",
        "    print(a+b)\n",
        "\n",
        "Test.add(1,2)\n",
        "\n",
        "test = Test()\n",
        "test.add(1,2)"
      ],
      "execution_count": null,
      "outputs": []
    },
    {
      "cell_type": "code",
      "metadata": {
        "colab": {
          "base_uri": "https://localhost:8080/"
        },
        "id": "Bynq58mTb40U",
        "outputId": "6ab25667-9331-42ca-cf17-6598cfb469cf"
      },
      "source": [
        "class Test:\n",
        "  def __init__(self,a,b):\n",
        "    self.a = a\n",
        "    self.b = b\n",
        "\n",
        "  def add(self):\n",
        "    print(self.a+self.b)\n",
        "  \n",
        "  @classmethod\n",
        "  def alternative(cls,string):\n",
        "    splited_list = string.split('-')\n",
        "    return cls(int(splited_list[0]),int(splited_list[1]))\n",
        "\n",
        "test = Test.alternative('1-3')\n",
        "test.add()\n"
      ],
      "execution_count": null,
      "outputs": []
    },
    {
      "cell_type": "markdown",
      "metadata": {
        "id": "2tbM3YdSzhM8"
      },
      "source": [
        "### **Python datetime**\n",
        "\n",
        "> Python has a module named datetime to work with dates and times. Let's create a few simple programs related to date and time before we dig deeper."
      ]
    },
    {
      "cell_type": "code",
      "metadata": {
        "id": "NW-38i4MzuFD"
      },
      "source": [
        "# Example 1: Get Current Date and Time\n",
        "import datetime\n",
        "\n",
        "datetime_object = datetime.datetime.now()\n",
        "print(datetime_object)\n"
      ],
      "execution_count": null,
      "outputs": []
    },
    {
      "cell_type": "code",
      "metadata": {
        "colab": {
          "base_uri": "https://localhost:8080/"
        },
        "id": "h22e581N0aq9",
        "outputId": "f013874d-ea56-4b76-9c32-26678b0e9aee"
      },
      "source": [
        "# Example 2: Get Current Date\n",
        "import datetime\n",
        "\n",
        "date_object = datetime.date.today()\n",
        "print(date_object)"
      ],
      "execution_count": null,
      "outputs": []
    },
    {
      "cell_type": "code",
      "metadata": {
        "id": "NFs1HbCY0aSS"
      },
      "source": [
        "# Example 3: Date object to represent a date\n",
        "import datetime\n",
        "\n",
        "d = datetime.date(2019, 4, 13)\n",
        "print(d)"
      ],
      "execution_count": null,
      "outputs": []
    },
    {
      "cell_type": "code",
      "metadata": {
        "id": "nD9Pd4jo1EL3"
      },
      "source": [
        "# Example 4: Print today's year, month and day\n",
        "from datetime import date\n",
        "\n",
        "# date object of today's date\n",
        "today = date.today() \n",
        "\n",
        "print(\"Current year:\", today.year)\n",
        "print(\"Current month:\", today.month)\n",
        "print(\"Current day:\", today.day)\n"
      ],
      "execution_count": null,
      "outputs": []
    },
    {
      "cell_type": "code",
      "metadata": {
        "id": "DZ5CLi2J1Wlb"
      },
      "source": [
        "# Example 5: Time object to represent time\n",
        "\n",
        "from datetime import time\n",
        "\n",
        "# time(hour = 0, minute = 0, second = 0)\n",
        "a = time()\n",
        "print(\"a =\", a)\n",
        "\n",
        "# time(hour, minute and second)\n",
        "b = time(11, 34, 56)\n",
        "print(\"b =\", b)\n",
        "\n",
        "# time(hour, minute and second)\n",
        "c = time(hour = 11, minute = 34, second = 56)\n",
        "print(\"c =\", c)\n",
        "\n",
        "# time(hour, minute, second, microsecond)\n",
        "d = time(11, 34, 56, 234566)\n",
        "print(\"d =\", d)\n"
      ],
      "execution_count": null,
      "outputs": []
    },
    {
      "cell_type": "code",
      "metadata": {
        "id": "W-DTYftA1n1X"
      },
      "source": [
        "# Example 8: Print hour, minute, second and microsecond\n",
        "from datetime import time\n",
        "\n",
        "a = time(11, 34, 56)\n",
        "\n",
        "print(\"hour =\", a.hour)\n",
        "print(\"minute =\", a.minute)\n",
        "print(\"second =\", a.second)\n",
        "print(\"microsecond =\", a.microsecond)"
      ],
      "execution_count": null,
      "outputs": []
    },
    {
      "cell_type": "code",
      "metadata": {
        "id": "ZWQfU0iF8lWD"
      },
      "source": [
        "# Example 9: Difference between two dates and times\n",
        "from datetime import datetime, date\n",
        "\n",
        "t1 = date(year = 2018, month = 7, day = 12)\n",
        "t2 = date(year = 2017, month = 12, day = 23)\n",
        "t3 = t1 - t2\n",
        "print(\"t3 =\", t3)\n",
        "\n",
        "t4 = datetime(year = 2018, month = 7, day = 12, hour = 7, minute = 9, second = 33)\n",
        "t5 = datetime(year = 2019, month = 6, day = 10, hour = 5, minute = 55, second = 13)\n",
        "t6 = t4 - t5\n",
        "print(\"t6 =\", t6)\n",
        "\n",
        "print(\"type of t3 =\", type(t3)) \n",
        "print(\"type of t6 =\", type(t6)) "
      ],
      "execution_count": null,
      "outputs": []
    },
    {
      "cell_type": "code",
      "metadata": {
        "colab": {
          "base_uri": "https://localhost:8080/"
        },
        "id": "EpZm13voKnb7",
        "outputId": "0e42da2f-6d38-4e55-f835-64fa0b13f75d"
      },
      "source": [
        "# Example 15: Format date using strftime()\n",
        "\n",
        "# %Y - year [0001,..., 2018, 2019,..., 9999]\n",
        "# %m - month [01, 02, ..., 11, 12]\n",
        "# %d - day [01, 02, ..., 30, 31]\n",
        "# %H - hour [00, 01, ..., 22, 23\n",
        "# %M - minute [00, 01, ..., 58, 59]\n",
        "# %S - second [00, 01, ..., 58, 59]\n",
        "\n",
        "from datetime import datetime\n",
        "\n",
        "# current date and time\n",
        "now = datetime.now()\n",
        "\n",
        "t = now.strftime(\"%H:%M:%S\")\n",
        "print(\"time:\", t)\n",
        "\n",
        "s1 = now.strftime(\"%m/%d/%Y, %H:%M:%S\")\n",
        "# mm/dd/YY H:M:S format\n",
        "print(\"s1:\", s1)\n",
        "\n",
        "s2 = now.strftime(\"%d/%m/%Y, %H:%M:%S\")\n",
        "# dd/mm/YY H:M:S format\n",
        "print(\"s2:\", s2)"
      ],
      "execution_count": null,
      "outputs": []
    },
    {
      "cell_type": "markdown",
      "metadata": {
        "id": "FXD9eFVPNeKr"
      },
      "source": [
        "#### **Handling timezone in Python**\n",
        "> Suppose, you are working on a project and need to display date and time based on their timezone. Rather than trying to handle timezone yourself, we suggest you to use a third-party pytZ module."
      ]
    },
    {
      "cell_type": "code",
      "metadata": {
        "colab": {
          "base_uri": "https://localhost:8080/"
        },
        "id": "hE9fGjuhLfbR",
        "outputId": "13b7eaa4-e960-4e13-b0fe-2386c524bf9c"
      },
      "source": [
        "# https://stackoverflow.com/questions/13866926/is-there-a-list-of-pytz-timezones\n",
        "from datetime import datetime\n",
        "import pytz\n",
        "\n",
        "utc0 = datetime.now()\n",
        "print(\"UTC(0):\", utc0.strftime(\"%m/%d/%Y, %H:%M:%S\"))\n",
        "\n",
        "\n",
        "tz_SK = pytz.timezone('Canada/Saskatchewan') \n",
        "datetime_SK = datetime.now(tz_SK)\n",
        "print(\"Regina:\", datetime_SK.strftime(\"%m/%d/%Y, %H:%M:%S\"))\n",
        "\n",
        "tz_London = pytz.timezone('Europe/London')\n",
        "datetime_London = datetime.now(tz_London)\n",
        "print(\"London:\", datetime_London.strftime(\"%m/%d/%Y, %H:%M:%S\"))"
      ],
      "execution_count": null,
      "outputs": []
    }
  ]
}
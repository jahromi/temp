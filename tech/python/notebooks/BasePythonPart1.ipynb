{
  "nbformat": 4,
  "nbformat_minor": 0,
  "metadata": {
    "colab": {
      "name": "PythonPart1.ipynb",
      "provenance": [],
      "authorship_tag": "ABX9TyNA1zzW03vBKsiHPFbmR2ga",
      "include_colab_link": true
    },
    "kernelspec": {
      "name": "python3",
      "display_name": "Python 3"
    }
  },
  "cells": [
    {
      "cell_type": "markdown",
      "metadata": {
        "id": "BpyXuFXHPkzl"
      },
      "source": [
        "### **Python programing practive notebook part 1**\n",
        "\n",
        "> Let's start with the hello world example :)\n",
        "\n",
        "\n"
      ]
    },
    {
      "cell_type": "code",
      "metadata": {
        "id": "YJYw6oaZqvFJ"
      },
      "source": [
        "print(\"Hello, world!\")"
      ],
      "execution_count": null,
      "outputs": []
    },
    {
      "cell_type": "markdown",
      "metadata": {
        "id": "yoQamo8dWpli"
      },
      "source": [
        "#### **Python Keywords**\n",
        "\n",
        "> Keywords are the reserved words in Python. We cannot use a keyword as a variable name, function name or any other identifier. They are used to define the syntax and structure of the Python language. In Python, keywords are case sensitive. There are 33 keywords in Python 3.7. This number can vary slightly over the course of time."
      ]
    },
    {
      "cell_type": "code",
      "metadata": {
        "id": "9EQNuxdPXWnC"
      },
      "source": [
        "import keyword\n",
        "keyword.kwlist"
      ],
      "execution_count": null,
      "outputs": []
    },
    {
      "cell_type": "markdown",
      "metadata": {
        "id": "jZofR5BvYx3P"
      },
      "source": [
        "#### **Python Identifiers**\n",
        "\n",
        "> An identifier is a name given to entities like class, functions, variables, etc. It helps to differentiate one entity from another.\n",
        "\n",
        "> **Rules for writing identifiers**\n",
        "\n",
        ">> 1. Identifiers can be a combination of letters in lowercase (a to z) or uppercase (A to Z) or digits (0 to 9) or an underscore _. Names like myClass, var_1 and print_this_to_screen, all are valid example.\n",
        ">> 2. An identifier cannot start with a digit. 1variable is invalid, but variable1 is a valid name.\n",
        ">> 3. Keywords cannot be used as identifiers.\n",
        ">> 4. We cannot use special symbols like !, @, #, $, % etc. in our identifier.\n",
        ">> 5. An identifier can be of any length.\n",
        "\n",
        "#### **Multi-line statement**\n",
        "\n",
        "> * In Python, the end of a statement is marked by a newline character. But we can make a statement extend over multiple lines with the line continuation character (\\).\n",
        "\n",
        "> * In Python, line continuation is implied inside parentheses ( ), brackets [ ], and braces { }\n",
        "\n",
        "> * We can also put multiple statements in a single line using semicolons\n",
        "\n",
        "\n"
      ]
    },
    {
      "cell_type": "code",
      "metadata": {
        "id": "lXOzmsolcho6"
      },
      "source": [
        "a = 1 + 2 + 3 + \\\n",
        "    4 + 5 + 6 + \\\n",
        "    7 + 8 + 9\n",
        "b = (1 + 2 + 3 +\n",
        "    4 + 5 + 6 +\n",
        "    7 + 8 + 9)\n",
        "colors = ['red',\n",
        "          'blue',\n",
        "          'green']\n",
        "a = 1; b = 2; c = 3"
      ],
      "execution_count": null,
      "outputs": []
    },
    {
      "cell_type": "markdown",
      "metadata": {
        "id": "zTmxsEexdV_V"
      },
      "source": [
        "#### **Python Indentation**\n",
        "\n",
        "> Most of the programming languages like C, C++, and Java use braces { } to define a block of code. Python, however, uses indentation.\n",
        "\n",
        "> A code block (body of a function, loop, etc.) starts with indentation and ends with the first unindented line. The amount of indentation is up to you, but it must be consistent throughout that block.\n",
        "\n",
        "> Generally, four whitespaces are used for indentation and are preferred over tabs.\n",
        "\n",
        "> Indentation can be ignored in line continuation, but it's always a good idea to indent. It makes the code more readable."
      ]
    },
    {
      "cell_type": "code",
      "metadata": {
        "id": "hcip-M7odYVm"
      },
      "source": [
        "for i in range(1,11):\n",
        "    print(i)\n",
        "    if i == 5:\n",
        "        break\n",
        "\n",
        "if True:\n",
        "    print('Hello')\n",
        "    a = 5\n",
        "\n",
        "if True: print('Hello'); a = 5"
      ],
      "execution_count": null,
      "outputs": []
    },
    {
      "cell_type": "markdown",
      "metadata": {
        "id": "7e71zO0agY2-"
      },
      "source": [
        "#### **Python Comments**\n",
        "\n",
        "> Comments are very important while writing a program. They describe what is going on inside a program, so that a person looking at the source code does not have a hard time figuring it out."
      ]
    },
    {
      "cell_type": "code",
      "metadata": {
        "id": "OyF3CV_lgZM7"
      },
      "source": [
        "#This is a comment\n",
        "#print out Hello\n",
        "print('Hello')\n",
        "\n",
        "#This is a long comment\n",
        "#and it extends\n",
        "#to multiple lines\n",
        "\n",
        "\"\"\"This is also a\n",
        "perfect example of\n",
        "multi-line comments\"\"\""
      ],
      "execution_count": null,
      "outputs": []
    },
    {
      "cell_type": "code",
      "metadata": {
        "id": "jiathYRKiLj7"
      },
      "source": [
        "# docstring\n",
        "def double(num):\n",
        "    \"\"\"Function to double the value\"\"\"\n",
        "    return 2*num\n",
        "print(double.__doc__)\n"
      ],
      "execution_count": null,
      "outputs": []
    },
    {
      "cell_type": "markdown",
      "metadata": {
        "id": "fHCekzTarZIf"
      },
      "source": [
        "#### **Python Variables**\n",
        "\n",
        "> A variable is a named location used to store data in the memory. It is helpful to think of variables as a container that holds data that can be changed later in the program."
      ]
    },
    {
      "cell_type": "code",
      "metadata": {
        "id": "EjRev1m0reJS"
      },
      "source": [
        "number = 10\n",
        "number = 1.1\n",
        "print(number)"
      ],
      "execution_count": null,
      "outputs": []
    },
    {
      "cell_type": "code",
      "metadata": {
        "id": "uMs0_AfdrnLs"
      },
      "source": [
        "a, b, c = 5, 3.2, \"Hello\"\n",
        "\n",
        "print (a)\n",
        "print (b)\n",
        "print (c)"
      ],
      "execution_count": null,
      "outputs": []
    },
    {
      "cell_type": "code",
      "metadata": {
        "id": "Sd053Q8LrkFF"
      },
      "source": [
        "x = y = z = \"same\"\n",
        "\n",
        "print (x)\n",
        "print (y)\n",
        "print (z)"
      ],
      "execution_count": null,
      "outputs": []
    },
    {
      "cell_type": "markdown",
      "metadata": {
        "id": "qZUhV0OLtImB"
      },
      "source": [
        "**Assigning value to constant in Python**\n",
        "> In Python, constants are usually declared and assigned in a module. Here, the module is a new file containing variables, functions, etc which is imported to the main file. Inside the module, constants are written in all capital letters and underscores separating the words.\n",
        "\n"
      ]
    },
    {
      "cell_type": "code",
      "metadata": {
        "id": "8Bl2SrZBtP3C"
      },
      "source": [
        "PI = 3.14\n",
        "GRAVITY = 9.8"
      ],
      "execution_count": null,
      "outputs": []
    },
    {
      "cell_type": "markdown",
      "metadata": {
        "id": "NYJx6pgawsgT"
      },
      "source": [
        "**Literals**\n",
        "\n",
        "> Literal is a raw data given in a variable or constant. In Python, there are various types of literals they are as follows:\n",
        "\n",
        "> **Numeric Literals**\n",
        ">> Numeric Literals are immutable (unchangeable). Numeric literals can belong to 3 different numerical types: **Integer**, **Float**, and **Complex**."
      ]
    },
    {
      "cell_type": "code",
      "metadata": {
        "id": "RcTfs6d-zvil"
      },
      "source": [
        "a = 0b1010 #Binary Literals\n",
        "b = 100 #Decimal Literal \n",
        "c = 0o310 #Octal Literal\n",
        "d = 0x12c #Hexadecimal Literal\n",
        "\n",
        "#Float Literal\n",
        "float_1 = 10.5 \n",
        "float_2 = 1.5e2\n",
        "\n",
        "#Complex Literal \n",
        "x = 3.14j\n",
        "\n",
        "print(a, b, c, d)\n",
        "print(float_1, float_2)\n",
        "print(x, x.imag, x.real)"
      ],
      "execution_count": null,
      "outputs": []
    },
    {
      "cell_type": "markdown",
      "metadata": {
        "id": "mwTJNsQFz10d"
      },
      "source": [
        "> **String literals**\n",
        "\n",
        ">> A string literal is a sequence of characters surrounded by quotes. We can use both single, double, or triple quotes for a string. And, a character literal is a single character surrounded by single or double quotes."
      ]
    },
    {
      "cell_type": "code",
      "metadata": {
        "id": "8rPE0fFMz6DN"
      },
      "source": [
        "strings = \"This is Python\"\n",
        "char = \"C\"\n",
        "multiline_str = \"\"\"This is a multiline string with more than one line code.\"\"\"\n",
        "unicode = u\"\\u00dcnic\\u00f6de\"\n",
        "raw_str = r\"raw \\n string\"\n",
        "\n",
        "print(strings)\n",
        "print(char)\n",
        "print(multiline_str)\n",
        "print(unicode)\n",
        "print(raw_str)"
      ],
      "execution_count": null,
      "outputs": []
    },
    {
      "cell_type": "markdown",
      "metadata": {
        "id": "-mR83Oby0DHR"
      },
      "source": [
        "> **Boolean literals**\n",
        "\n",
        ">> A Boolean literal can have any of the two values: True or False."
      ]
    },
    {
      "cell_type": "code",
      "metadata": {
        "id": "zIgvtoNJ0GqJ"
      },
      "source": [
        "x = (1 == True)\n",
        "y = (1 == False)\n",
        "a = True + 4\n",
        "b = False + 10\n",
        "\n",
        "print(\"x is\", x)\n",
        "print(\"y is\", y)\n",
        "print(\"a:\", a)\n",
        "print(\"b:\", b)"
      ],
      "execution_count": null,
      "outputs": []
    },
    {
      "cell_type": "markdown",
      "metadata": {
        "id": "t01YzTpL0pw0"
      },
      "source": [
        ">**Special literals**\n",
        "\n",
        ">> Python contains one special literal i.e. None. We use it to specify that the field has not been created."
      ]
    },
    {
      "cell_type": "code",
      "metadata": {
        "id": "cap960Zx0oij"
      },
      "source": [
        "drink = \"Available\"\n",
        "food = None\n",
        "\n",
        "def menu(x):\n",
        "    if x == drink:\n",
        "        print(drink)\n",
        "    else:\n",
        "        print(food)\n",
        "\n",
        "menu(drink)\n",
        "menu(food)"
      ],
      "execution_count": null,
      "outputs": []
    },
    {
      "cell_type": "markdown",
      "metadata": {
        "id": "t5cz2CdHA33c"
      },
      "source": [
        "**Data types in Python**\n",
        "\n",
        "> Every value in Python has a datatype. Since everything is an object in Python programming, data types are actually classes and variables are instance (object) of these classes.\n",
        "\n",
        "> **Python Numbers**\n",
        ">> Integers, floating point numbers and complex numbers fall under Python numbers category. They are defined as int, float and complex classes in Python."
      ]
    },
    {
      "cell_type": "code",
      "metadata": {
        "id": "g9m9WWlMBwku"
      },
      "source": [
        "a = 5\n",
        "print(a, \"is of type\", type(a))\n",
        "\n",
        "a = 2.0\n",
        "print(a, \"is of type\", type(a))\n",
        "\n",
        "a = 1+2j\n",
        "print(a, \"is complex number?\", isinstance(1+2j,complex), type(a))"
      ],
      "execution_count": null,
      "outputs": []
    },
    {
      "cell_type": "markdown",
      "metadata": {
        "id": "pLunFkGIDwuu"
      },
      "source": [
        "> **Python Strings**\n",
        "\n",
        ">> String is sequence of Unicode characters. We can use single quotes or double quotes to represent strings. Multi-line strings can be denoted using triple quotes, ''' or \"\"\"."
      ]
    },
    {
      "cell_type": "code",
      "metadata": {
        "id": "-nfHwl05EM9X"
      },
      "source": [
        "s = \"This is a string\"\n",
        "print(s)\n",
        "s = '''A multiline\n",
        "string'''\n",
        "print(s)"
      ],
      "execution_count": null,
      "outputs": []
    },
    {
      "cell_type": "markdown",
      "metadata": {
        "id": "Y8XAk0WCEfQJ"
      },
      "source": [
        "**Python List**\n",
        "> List is an ordered sequence of items. It is one of the most used datatype in Python and is very flexible. All the items in a list do not need to be of the same type.\n",
        "\n",
        "> Declaring a list is pretty straight forward. Items separated by commas are enclosed within brackets [ ]."
      ]
    },
    {
      "cell_type": "code",
      "metadata": {
        "id": "hXi5FHS3Eo89"
      },
      "source": [
        "a = [5,10,15,20,25,30,35,40]\n",
        "\n",
        "# a[2] = 15\n",
        "print(\"a[2] = \", a[2])\n",
        "\n",
        "# a[0:3] = [5, 10, 15]\n",
        "print(\"a[0:3] = \", a[0:3])\n",
        "\n",
        "# a[5:] = [30, 35, 40]\n",
        "print(\"a[5:] = \", a[5:])\n",
        "\n",
        "#Lists are mutable\n",
        "a = [1, 2, 3]\n",
        "a[2] = 4\n",
        "print(a)"
      ],
      "execution_count": null,
      "outputs": []
    },
    {
      "cell_type": "markdown",
      "metadata": {
        "id": "dpQofkwPE43P"
      },
      "source": [
        "**Python Tuple**\n",
        "\n",
        "> Tuple is an ordered sequence of items same as a list. The only difference is that tuples are immutable. Tuples once created cannot be modified.\n",
        "\n",
        "> Tuples are used to write-protect data and are usually faster than lists as they cannot change dynamically.\n",
        "\n",
        "> It is defined within parentheses () where items are separated by commas."
      ]
    },
    {
      "cell_type": "code",
      "metadata": {
        "id": "L5CV1FlsFFS2"
      },
      "source": [
        "t = (5,'program', 1+3j)\n",
        "\n",
        "# t[1] = 'program'\n",
        "print(\"t[1] = \", t[1])\n",
        "\n",
        "# t[0:3] = (5, 'program', (1+3j))\n",
        "print(\"t[0:3] = \", t[0:3])\n",
        "\n",
        "# Generates error\n",
        "# Tuples are immutable\n",
        "t[0] = 10"
      ],
      "execution_count": null,
      "outputs": []
    },
    {
      "cell_type": "markdown",
      "metadata": {
        "id": "eCDUbB1mIZeb"
      },
      "source": [
        "**Python Set**\n",
        "> Set is an unordered collection of unique items. Set is defined by values separated by comma inside braces { }. Items in a set are not ordered."
      ]
    },
    {
      "cell_type": "code",
      "metadata": {
        "id": "Nive03FXIxxT"
      },
      "source": [
        "a = {5,2,3,1,4}\n",
        "\n",
        "# printing set variable\n",
        "print(\"a = \", a)\n",
        "\n",
        "# data type of variable a\n",
        "print(type(a))"
      ],
      "execution_count": null,
      "outputs": []
    },
    {
      "cell_type": "markdown",
      "metadata": {
        "id": "6dynUd-vJPJt"
      },
      "source": [
        "**Python Dictionary**\n",
        "> Dictionary is an unordered collection of key-value pairs.\n",
        "\n",
        "> It is generally used when we have a huge amount of data. Dictionaries are optimized for retrieving data. We must know the key to retrieve the value.\n",
        "\n",
        "> In Python, dictionaries are defined within braces {} with each item being a pair in the form key:value. Key and value can be of any type."
      ]
    },
    {
      "cell_type": "code",
      "metadata": {
        "id": "RrS4c0O_KRBQ"
      },
      "source": [
        "d = {1:'value','key':2}\n",
        "print(type(d))\n",
        "\n",
        "print(\"d[1] = \", d[1]);\n",
        "\n",
        "print(\"d['key'] = \", d['key']);\n",
        "\n",
        "# Generates error\n",
        "print(\"d[2] = \", d[2]);"
      ],
      "execution_count": null,
      "outputs": []
    },
    {
      "cell_type": "markdown",
      "metadata": {
        "id": "cMIgvf9_KiER"
      },
      "source": [
        "#### **Conversion between data types**\n",
        "> We can convert between different data types by using different type conversion functions like int(), float(), str(), etc.\n",
        "\n",
        ">The process of converting the value of one data type (integer, string, float, etc.) to another data type is called type conversion. Python has two types of type conversion.\n",
        "\n",
        "> 1. Implicit Type Conversion\n",
        "> 2. Explicit Type Conversion"
      ]
    },
    {
      "cell_type": "code",
      "metadata": {
        "id": "1oOuQzbjKvqL"
      },
      "source": [
        "#Implicit data conversion\n",
        "num_int = 123\n",
        "num_flo = 1.23\n",
        "\n",
        "num_new = num_int + num_flo\n",
        "\n",
        "print(\"datatype of num_int:\",type(num_int))\n",
        "print(\"datatype of num_flo:\",type(num_flo))\n",
        "\n",
        "print(\"Value of num_new:\",num_new)\n",
        "print(\"datatype of num_new:\",type(num_new))\n",
        "\n",
        "#Eplicit data conversion\n",
        "print('float(5)=', float(5))\n",
        "print('str(25)[1]=', str(25)[1])\n",
        "print('int(-10.5)=', int(-10.5))\n",
        "print(\"list('hello')=\", list('hello'))\n",
        "print('set([1,2,3])=', set([1,2,3]))\n",
        "print('tuple({5,6,7})=', tuple({5,6,7}))\n",
        "print('dict([[1,2],[3,4]])=', dict([[1,2],[3,4]]))"
      ],
      "execution_count": null,
      "outputs": []
    },
    {
      "cell_type": "markdown",
      "metadata": {
        "id": "EpRU0hXmTEJ6"
      },
      "source": [
        "#### **Python input and format methods**\n",
        "> Some of the functions like input() and print() are widely used for standard input and output operations respectively. Let us see the output section first."
      ]
    },
    {
      "cell_type": "code",
      "metadata": {
        "id": "Fkx4DgIyOOAV"
      },
      "source": [
        "a = 5\n",
        "print('The value of a is', a)\n",
        "\n",
        "print(1, 2, 3, 4)\n",
        "print(1, 2, 3, 4, sep='*')\n",
        "print(1, 2, 3, 4, sep='#', end='&')\n",
        "print('\\n')\n",
        "first_name  = input('First Name:')\n",
        "last_name = input('Last Name:')\n",
        "\n",
        "print(\"Hello {}, {}\".format(first_name,last_name))\n",
        "print(f\"Hello {first_name}, {last_name}\")"
      ],
      "execution_count": null,
      "outputs": []
    },
    {
      "cell_type": "markdown",
      "metadata": {
        "id": "3fpCvDW4qMCP"
      },
      "source": [
        "#### **Python Operators**\n",
        "![Python Operators](https://www.engineeringbigdata.com/wp-content/uploads/python-arithmetic-operators.jpg)"
      ]
    },
    {
      "cell_type": "code",
      "metadata": {
        "id": "ZcQ_Z7T4rz9v"
      },
      "source": [
        "x = 15\n",
        "y = 4\n",
        "\n",
        "# Output: x + y = 19\n",
        "print('x + y =',x+y)\n",
        "\n",
        "# Output: x - y = 11\n",
        "print('x - y =',x-y)\n",
        "\n",
        "# Output: x * y = 60\n",
        "print('x * y =',x*y)\n",
        "\n",
        "# Output: x / y = 3.75\n",
        "print('x / y =',x/y)\n",
        "\n",
        "# Output: x // y = 3\n",
        "print('x // y =',x//y)\n",
        "\n",
        "# Output: x ** y = 50625\n",
        "print('x ** y =',x**y)\n",
        "\n",
        "# Output: x % y = 3\n",
        "print('x ** y =',x%y)"
      ],
      "execution_count": null,
      "outputs": []
    },
    {
      "cell_type": "markdown",
      "metadata": {
        "id": "wNnJi823sRXz"
      },
      "source": [
        "#### **Python comparision operators**\n",
        "\n",
        "![Python comparision operators](https://www.engineeringbigdata.com/wp-content/uploads/python-comparison-operators.jpg)"
      ]
    },
    {
      "cell_type": "code",
      "metadata": {
        "id": "P88HL8VKsOzJ"
      },
      "source": [
        "x = 10\n",
        "y = 12\n",
        "\n",
        "# Output: x > y is False\n",
        "print('x > y is',x>y)\n",
        "\n",
        "# Output: x < y is True\n",
        "print('x < y is',x<y)\n",
        "\n",
        "# Output: x == y is False\n",
        "print('x == y is',x==y)\n",
        "\n",
        "# Output: x != y is True\n",
        "print('x != y is',x!=y)\n",
        "\n",
        "# Output: x >= y is False\n",
        "print('x >= y is',x>=y)\n",
        "\n",
        "# Output: x <= y is True\n",
        "print('x <= y is',x<=y)"
      ],
      "execution_count": null,
      "outputs": []
    },
    {
      "cell_type": "markdown",
      "metadata": {
        "id": "RlD4C7jSusn4"
      },
      "source": [
        "#### **Python Logical Operators**\n",
        "\n",
        "![Python logical operators](https://www.engineeringbigdata.com/wp-content/uploads/python-logical-operators.jpg)"
      ]
    },
    {
      "cell_type": "code",
      "metadata": {
        "id": "kdxmKYlxu-K2"
      },
      "source": [
        "x = True\n",
        "y = False\n",
        "\n",
        "print('x and y is',x and y)\n",
        "\n",
        "print('x or y is',x or y)\n",
        "\n",
        "print('not x is',not x)"
      ],
      "execution_count": null,
      "outputs": []
    },
    {
      "cell_type": "markdown",
      "metadata": {
        "id": "vqAuvdqKvRNF"
      },
      "source": [
        "#### **Python Assignment Operators**\n",
        "\n",
        "![Python assignnment operators](https://www.engineeringbigdata.com/wp-content/uploads/assignment-operators-python.jpg)"
      ]
    },
    {
      "cell_type": "code",
      "metadata": {
        "id": "g3GDFrNuwmbf"
      },
      "source": [
        "a = 20\n",
        "b = 7\n",
        " \n",
        "print(\"nPython Assignment Operator Examples\")\n",
        "print(f\" First variable is: {a} \")\n",
        "print(f\" Second variable: {b} \")\n",
        "print(f\" a = 20: {a}\")\n",
        " \n",
        "a = 20\n",
        "a += b\n",
        "print(f\" a += b: {a}\")\n",
        " \n",
        "a = 20\n",
        "a -= b\n",
        "print(f\" a -= b: {a}\")\n",
        " \n",
        "a = 20\n",
        "a *= b\n",
        "print(f\" a *= b: {a}\")\n",
        " \n",
        "a = 20\n",
        "a /= b\n",
        "print(f\" a /= b: {a}\")\n",
        " \n",
        "a = 20\n",
        "a %= b\n",
        "print(f\" a %= b: {a}\")\n",
        " \n",
        "a = 20\n",
        "a //= b\n",
        "print(f\" a //= b: {a}\")\n",
        " \n",
        "a = 20\n",
        "a**=b\n",
        "print(f\" a **= b: {a}\")\n",
        " \n",
        "a = 20\n",
        "a&=b\n",
        "print(f\" a &= b: {a}\")\n",
        "      \n",
        "a = 20\n",
        "a |= b\n",
        "print(f\" a |= b: {a}\")\n",
        " \n",
        "a = 20\n",
        "a ^= b\n",
        "print(f\" a ^= b: {a}\")\n",
        " \n",
        "a = 20\n",
        "a >>= b\n",
        "print(f\" a >>= b: {a}\")\n",
        " \n",
        "a = 20\n",
        "a <<= b\n",
        "print(f\" a <<= b: {a}\")\n"
      ],
      "execution_count": null,
      "outputs": []
    },
    {
      "cell_type": "markdown",
      "metadata": {
        "id": "uajUD9f4yHEn"
      },
      "source": [
        "#### **Python Membership Operators**\n",
        "![Python Membership Operators](https://www.engineeringbigdata.com/wp-content/uploads/python-membership-operators.jpg)"
      ]
    },
    {
      "cell_type": "code",
      "metadata": {
        "id": "VdHqogmXyiGv"
      },
      "source": [
        "cars = [\"Aston Martin\", \"BMW\", \"Ferrari\", \"Lamborghini\"]\n",
        " \n",
        "membership_in = 'Aston Martin' in cars\n",
        "membership_not_in = 'Mercedes' not in cars\n",
        " \n",
        "print(\"nPython Membership Operator Examples\")\n",
        "print(f\" membership_in = 'Aston Martin' in cars: {membership_in} \")\n",
        "print(f\" membership_not_in = 'Mercedes' not in cars: {membership_not_in} \")"
      ],
      "execution_count": null,
      "outputs": []
    }
  ]
}